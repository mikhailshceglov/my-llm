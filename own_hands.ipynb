version https://git-lfs.github.com/spec/v1
oid sha256:5f40850077820edbcee0d22af6426823c5b91e8038ce74e4f68039fdb5bb9d74
size 79662
